{
 "cells": [
  {
   "cell_type": "code",
   "execution_count": null,
   "metadata": {},
   "outputs": [],
   "source": [
    "from fastai.vision.widgets import *\n",
    "from fastai.basics import *\n",
    "from fastai.vision.core import *\n",
    "from IPython.display import FileLink\n",
    "from PIL import Image\n",
    "from fastpapers.johnson2016perceptual import JohnsonResBlock"
   ]
  },
  {
   "cell_type": "code",
   "execution_count": null,
   "metadata": {},
   "outputs": [],
   "source": [
    "path = Path()\n",
    "learn_inf = load_learner(path/'picasso_style_transfer.pkl')"
   ]
  },
  {
   "cell_type": "markdown",
   "metadata": {},
   "source": [
    "# Picasso App\n",
    "\n",
    "Style target The Muse\n",
    "---"
   ]
  },
  {
   "cell_type": "code",
   "execution_count": null,
   "metadata": {},
   "outputs": [],
   "source": [
    "out_pl = widgets.Output()\n",
    "out_pl.clear_output()\n",
    "out_style = widgets.Output()\n",
    "out_style.clear_output()\n",
    "out_link = widgets.Output()\n",
    "lbl_status = widgets.Label()\n",
    "lbl_status.value = 'Status: Ready'"
   ]
  },
  {
   "cell_type": "code",
   "execution_count": null,
   "metadata": {},
   "outputs": [],
   "source": [
    "def on_click_classify(change):\n",
    "    img = PILImage.create(btn_upload.data[-1]).to_thumb(512,512)\n",
    "    img = PILImage(img)\n",
    "\n",
    "    out_style.clear_output()\n",
    "    out_link.clear_output()\n",
    "    \n",
    "    lbl_status.value = 'Status: Processing image'\n",
    "    pred,pred_idx,probs = learn_inf.predict(img)\n",
    "    pred = PILImage.create(pred)\n",
    "    \n",
    "    with out_style: display(pred.to_thumb(256,256))\n",
    "    pred.save(open('picasso.jpg', 'w'))\n",
    "    with out_link: display(FileLink('picasso.jpg'))\n",
    "    lbl_status.value = 'Status: Ready'\n",
    "btn_run = widgets.Button(description='To Picasso')\n",
    "btn_run.on_click(on_click_classify)"
   ]
  },
  {
   "cell_type": "code",
   "execution_count": null,
   "metadata": {},
   "outputs": [],
   "source": [
    "def on_click_upload(change):\n",
    "    img = PILImage.create(btn_upload.data[-1])\n",
    "    out_pl.clear_output()\n",
    "    out_style.clear_output()\n",
    "    out_link.clear_output()\n",
    "    with out_pl: display(img.to_thumb(256,256));\n",
    "    lbl_status.value = 'Status: Image uploaded'\n",
    "\n",
    "def on_upload_statrs(change): lbl_status.value='Status: Loading image'\n",
    "\n",
    "btn_upload = widgets.FileUpload()\n",
    "btn_upload.observe(on_upload_statrs, names='value')\n",
    "btn_upload.observe(on_click_upload, names='data')\n"
   ]
  },
  {
   "cell_type": "code",
   "execution_count": null,
   "metadata": {},
   "outputs": [],
   "source": [
    "HBox([VBox([widgets.Label('Select Input'), btn_upload, btn_run, out_link, lbl_status]), HBox([out_pl, out_style])])"
   ]
  }
 ],
 "metadata": {
  "jupytext": {
   "split_at_heading": true
  },
  "kernelspec": {
   "display_name": "Python 3",
   "language": "python",
   "name": "python3"
  },
  "language_info": {
   "codemirror_mode": {
    "name": "ipython",
    "version": 3
   },
   "file_extension": ".py",
   "mimetype": "text/x-python",
   "name": "python",
   "nbconvert_exporter": "python",
   "pygments_lexer": "ipython3",
   "version": "3.8.5"
  },
  "latex_envs": {
   "LaTeX_envs_menu_present": true,
   "autoclose": false,
   "autocomplete": true,
   "bibliofile": "biblio.bib",
   "cite_by": "apalike",
   "current_citInitial": 1,
   "eqLabelWithNumbers": true,
   "eqNumInitial": 1,
   "hotkeys": {
    "equation": "Ctrl-E",
    "itemize": "Ctrl-I"
   },
   "labels_anchors": false,
   "latex_user_defs": false,
   "report_style_numbering": false,
   "user_envs_cfg": false
  },
  "toc": {
   "base_numbering": 1,
   "nav_menu": {},
   "number_sections": true,
   "sideBar": true,
   "skip_h1_title": false,
   "title_cell": "Table of Contents",
   "title_sidebar": "Contents",
   "toc_cell": false,
   "toc_position": {},
   "toc_section_display": true,
   "toc_window_display": false
  }
 },
 "nbformat": 4,
 "nbformat_minor": 4
}
